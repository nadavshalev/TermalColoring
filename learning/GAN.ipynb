{
 "cells": [
  {
   "cell_type": "code",
   "execution_count": 37,
   "metadata": {},
   "outputs": [],
   "source": [
    "# example of defining a u-net encoder-decoder generator model\n",
    "import os\n",
    "import random\n",
    "from random import randint\n",
    "import pandas as pd\n",
    "import numpy as np\n",
    "import cv2 as cv\n",
    "import matplotlib.pyplot as plt\n",
    "plt.style.use(\"grayscale\")\n",
    "%matplotlib inline\n",
    "\n",
    "from tqdm import tqdm_notebook, tnrange\n",
    "from itertools import chain\n",
    "from skimage.io import imread, imshow, concatenate_images\n",
    "from skimage.transform import resize\n",
    "from skimage.morphology import label\n",
    "from sklearn.model_selection import train_test_split\n",
    "\n",
    "import tensorflow as tf\n",
    "\n",
    "from keras.models import Model, load_model\n",
    "from keras.layers import Input, BatchNormalization, Activation, Dense, Dropout\n",
    "from keras.layers.core import Lambda, RepeatVector, Reshape\n",
    "from keras.layers.convolutional import Conv2D, Conv2DTranspose\n",
    "from keras.layers.pooling import MaxPooling2D, GlobalMaxPool2D\n",
    "from keras.layers.merge import concatenate, add\n",
    "from keras.callbacks import EarlyStopping, ModelCheckpoint, ReduceLROnPlateau\n",
    "from keras.optimizers import Adam\n",
    "from keras.preprocessing.image import ImageDataGenerator, array_to_img, img_to_array, load_img\n",
    "from keras.losses import mean_absolute_error\n",
    "import keras.backend as K\n",
    "\n",
    "from keras.optimizers import Adam\n",
    "from keras.initializers import RandomNormal\n",
    "from keras.models import Model\n",
    "from keras.models import Input\n",
    "from keras.layers import Conv2D\n",
    "from keras.layers import Conv2DTranspose\n",
    "from keras.layers import LeakyReLU\n",
    "from keras.layers import Activation\n",
    "from keras.layers import Concatenate\n",
    "from keras.layers import Dropout\n",
    "from keras.layers import BatchNormalization\n",
    "from keras.layers import LeakyReLU\n",
    "from keras.utils.vis_utils import plot_model"
   ]
  },
  {
   "cell_type": "code",
   "execution_count": 186,
   "metadata": {},
   "outputs": [],
   "source": [
    "def get_data(path):\n",
    "    ids_x = next(os.walk(path + \"TRM\"))[2]\n",
    "    ids_x.sort()\n",
    "    ids_y = next(os.walk(path + \"RGB\"))[2]\n",
    "    ids_y.sort()\n",
    "    X = np.zeros((len(ids_x), im_height, im_width, 1), dtype=np.float32)\n",
    "    y = np.zeros((len(ids_y), im_height, im_width, 3), dtype=np.float32)\n",
    "    \n",
    "    for n, id_x in tqdm_notebook(enumerate(ids_x), total=len(ids_x)):\n",
    "        id_y = ids_y[n]\n",
    "        # Load images\n",
    "        #img = load_img(path + '/TRM/' + id_x, grayscale=True)\n",
    "        #x_img = img_to_array(img)\n",
    "        img = cv.imread(path + '/TRM/' + id_x,cv.COLOR_BGR2GRAY)\n",
    "        x_img = np.array(img)\n",
    "        x_img = (x_img - x_img.min()) / (x_img.max() - x_img.min())\n",
    "        x_img = resize(x_img, (im_height, im_width, 1), mode='constant', preserve_range=True)\n",
    "        mask = img_to_array(load_img(path + '/RGB/' + id_y, grayscale=False))\n",
    "        mask = resize(mask, (im_height, im_width, 1), mode='constant', preserve_range=True)\n",
    "        \n",
    "        X[n, ..., 0] = x_img.squeeze()\n",
    "        y[n] = mask / 255\n",
    "        \n",
    "    return X, y"
   ]
  },
  {
   "cell_type": "markdown",
   "metadata": {},
   "source": [
    "# Discriminator"
   ]
  },
  {
   "cell_type": "code",
   "execution_count": 21,
   "metadata": {},
   "outputs": [],
   "source": [
    "def define_discriminator(t_image_shape, c_image_shape):\n",
    "\t# weight initialization\n",
    "\tinit = RandomNormal(stddev=0.02)\n",
    "\t# source image input\n",
    "\tin_src_image = Input(shape=t_image_shape)\n",
    "\t# target image input\n",
    "\tin_target_image = Input(shape=c_image_shape)\n",
    "\t# concatenate images channel-wise\n",
    "\tmerged = Concatenate()([in_src_image, in_target_image])\n",
    "\t# C64\n",
    "\td = Conv2D(64, (4,4), strides=(2,2), padding='same', kernel_initializer=init)(merged)\n",
    "\td = LeakyReLU(alpha=0.2)(d)\n",
    "\t# C128\n",
    "\td = Conv2D(128, (4,4), strides=(2,2), padding='same', kernel_initializer=init)(d)\n",
    "\td = BatchNormalization()(d)\n",
    "\td = LeakyReLU(alpha=0.2)(d)\n",
    "\t# C256\n",
    "\td = Conv2D(256, (4,4), strides=(2,2), padding='same', kernel_initializer=init)(d)\n",
    "\td = BatchNormalization()(d)\n",
    "\td = LeakyReLU(alpha=0.2)(d)\n",
    "\t# C512\n",
    "\td = Conv2D(512, (4,4), strides=(2,2), padding='same', kernel_initializer=init)(d)\n",
    "\td = BatchNormalization()(d)\n",
    "\td = LeakyReLU(alpha=0.2)(d)\n",
    "\t# second last output layer\n",
    "\td = Conv2D(512, (4,4), padding='same', kernel_initializer=init)(d)\n",
    "\td = BatchNormalization()(d)\n",
    "\td = LeakyReLU(alpha=0.2)(d)\n",
    "\t# patch output\n",
    "\td = Conv2D(1, (4,4), padding='same', kernel_initializer=init)(d)\n",
    "\tpatch_out = Activation('sigmoid')(d)\n",
    "\t# define model\n",
    "\tmodel = Model([in_src_image, in_target_image], patch_out)\n",
    "\t# compile model\n",
    "\topt = Adam(lr=0.0002, beta_1=0.5)\n",
    "\tmodel.compile(loss='binary_crossentropy', optimizer=opt, loss_weights=[0.5])\n",
    "\treturn model"
   ]
  },
  {
   "cell_type": "markdown",
   "metadata": {},
   "source": [
    "# Generator blocks"
   ]
  },
  {
   "cell_type": "code",
   "execution_count": 22,
   "metadata": {},
   "outputs": [],
   "source": [
    "# Encoder block\n",
    "def define_encoder_block(layer_in, n_filters, batchnorm=True):\n",
    "\t# weight initialization\n",
    "\tinit = RandomNormal(stddev=0.02)\n",
    "\t# add downsampling layer\n",
    "\tg = Conv2D(n_filters, (4,4), strides=(2,2), padding='same', kernel_initializer=init)(layer_in)\n",
    "\t# conditionally add batch normalization\n",
    "\tif batchnorm:\n",
    "\t\tg = BatchNormalization()(g, training=True)\n",
    "\t# leaky relu activation\n",
    "\tg = LeakyReLU(alpha=0.2)(g)\n",
    "\treturn g\n",
    " \n",
    "# Decoder block\n",
    "def decoder_block(layer_in, skip_in, n_filters, dropout=True):\n",
    "\t# weight initialization\n",
    "\tinit = RandomNormal(stddev=0.02)\n",
    "\t# add upsampling layer\n",
    "\tg = Conv2DTranspose(n_filters, (4,4), strides=(2,2), padding='same', kernel_initializer=init)(layer_in)\n",
    "\t# add batch normalization\n",
    "\tg = BatchNormalization()(g, training=True)\n",
    "\t# conditionally add dropout\n",
    "\tif dropout:\n",
    "\t\tg = Dropout(0.5)(g, training=True)\n",
    "\t# merge with skip connection\n",
    "\tg = Concatenate()([g, skip_in])\n",
    "\t# relu activation\n",
    "\tg = Activation('relu')(g)\n",
    "\treturn g"
   ]
  },
  {
   "cell_type": "markdown",
   "metadata": {},
   "source": [
    "# Generator model"
   ]
  },
  {
   "cell_type": "code",
   "execution_count": 23,
   "metadata": {},
   "outputs": [],
   "source": [
    "def define_generator(image_shape=(256,256,1)):\n",
    "\t# weight initialization\n",
    "\tinit = RandomNormal(stddev=0.02)\n",
    "\t# image input\n",
    "\tin_image = Input(shape=image_shape)\n",
    "\t# encoder model: C64-C128-C256-C512-C512-C512-C512-C512\n",
    "\te1 = define_encoder_block(in_image, 64, batchnorm=False)\n",
    "\te2 = define_encoder_block(e1, 128)\n",
    "\te3 = define_encoder_block(e2, 256)\n",
    "\te4 = define_encoder_block(e3, 512)\n",
    "\te5 = define_encoder_block(e4, 512)\n",
    "\te6 = define_encoder_block(e5, 512)\n",
    "\te7 = define_encoder_block(e6, 512)\n",
    "\t# bottleneck, no batch norm and relu\n",
    "\tb = Conv2D(512, (4,4), strides=(2,2), padding='same', kernel_initializer=init)(e7)\n",
    "\tb = Activation('relu')(b)\n",
    "\t# decoder model: CD512-CD1024-CD1024-C1024-C1024-C512-C256-C128\n",
    "\td1 = decoder_block(b, e7, 512)\n",
    "\td2 = decoder_block(d1, e6, 512)\n",
    "\td3 = decoder_block(d2, e5, 512)\n",
    "\td4 = decoder_block(d3, e4, 512, dropout=False)\n",
    "\td5 = decoder_block(d4, e3, 256, dropout=False)\n",
    "\td6 = decoder_block(d5, e2, 128, dropout=False)\n",
    "\td7 = decoder_block(d6, e1, 64, dropout=False)\n",
    "\t# output\n",
    "\tg = Conv2DTranspose(3, (4,4), strides=(2,2), padding='same', kernel_initializer=init)(d7)\n",
    "\tout_image = Activation('tanh')(g)\n",
    "\t# define model\n",
    "\tmodel = Model(in_image, out_image)\n",
    "\treturn model\n"
   ]
  },
  {
   "cell_type": "markdown",
   "metadata": {},
   "source": [
    "# GAN model"
   ]
  },
  {
   "cell_type": "code",
   "execution_count": 24,
   "metadata": {},
   "outputs": [],
   "source": [
    "# define the combined generator and discriminator model, for updating the generator\n",
    "def define_gan(g_model, d_model, image_shape):\n",
    "\t# make weights in the discriminator not trainable\n",
    "\td_model.trainable = False\n",
    "\t# define the source image\n",
    "\tin_src = Input(shape=image_shape)\n",
    "\t# connect the source image to the generator input\n",
    "\tgen_out = g_model(in_src)\n",
    "\t# connect the source input and generator output to the discriminator input\n",
    "\tdis_out = d_model([in_src, gen_out])\n",
    "\t# src image as input, generated image and classification output\n",
    "\tmodel = Model(in_src, [dis_out, gen_out])\n",
    "\t# compile model\n",
    "\topt = Adam(lr=0.0002, beta_1=0.5)\n",
    "\tmodel.compile(loss=['binary_crossentropy', 'mae'], optimizer=opt, loss_weights=[1,100])\n",
    "\treturn model"
   ]
  },
  {
   "cell_type": "code",
   "execution_count": 174,
   "metadata": {},
   "outputs": [],
   "source": [
    "def generate_real_samples(X,Y, n_samples, patch_shape):\n",
    "    # choose random instances\n",
    "    ix = randint(0, X.shape[0]-1)\n",
    "    # retrieve selected images\n",
    "    x, y = X[ix], Y[ix]\n",
    "    if len(x.shape) != 4:\n",
    "        x = np.expand_dims(x, axis=0)\n",
    "        y = np.expand_dims(y, axis=0)\n",
    "    z = np.ones((n_samples, patch_shape, patch_shape, 1))\n",
    "    return [x, y], z\n",
    "\n",
    "def generate_fake_samples(g_model, samples, patch_shape):\n",
    "\t# generate fake instance\n",
    "\tX = g_model.predict(samples)\n",
    "\t# create 'fake' class labels (0)\n",
    "\tz = np.zeros((len(X), patch_shape, patch_shape, 1))\n",
    "\treturn X, z"
   ]
  },
  {
   "cell_type": "code",
   "execution_count": 190,
   "metadata": {},
   "outputs": [],
   "source": [
    "# train pix2pix models\n",
    "def train(d_model, g_model, gan_model, X, Y, n_epochs=100, n_batch=1, n_patch=16):\n",
    "\t# unpack dataset\n",
    "\t# calculate the number of batches per training epoch\n",
    "\tbat_per_epo = int(len(X) / n_batch)\n",
    "\t# calculate the number of training iterations\n",
    "\tn_steps = bat_per_epo * n_epochs\n",
    "\t# manually enumerate epochs\n",
    "\tfor i in range(n_steps):\n",
    "\t\t# select a batch of real samples\n",
    "\t\t[X_realA, X_realB], y_real = generate_real_samples(X, Y, n_batch, n_patch)\n",
    "\t\t# generate a batch of fake samples\n",
    "\t\tX_fakeB, y_fake = generate_fake_samples(g_model, X_realA, n_patch)\n",
    "\t\t# update discriminator for real samples\n",
    "\t\td_loss1 = d_model.train_on_batch([X_realA, X_realB], y_real)\n",
    "\t\t# update discriminator for generated samples\n",
    "\t\td_loss2 = d_model.train_on_batch([X_realA, X_fakeB], y_fake)\n",
    "\t\t# update the generator\n",
    "\t\tg_loss, _, _ = gan_model.train_on_batch(X_realA, [y_real, X_realB])\n",
    "\t\t# summarize performance\n",
    "\t\tprint('>%d, d1[%.3f] d2[%.3f] g[%.3f]' % (i+1, d_loss1, d_loss2, g_loss))"
   ]
  },
  {
   "cell_type": "code",
   "execution_count": 187,
   "metadata": {},
   "outputs": [
    {
     "data": {
      "application/vnd.jupyter.widget-view+json": {
       "model_id": "2162f394e3974792a7ab30f3b264e29e",
       "version_major": 2,
       "version_minor": 0
      },
      "text/plain": [
       "HBox(children=(IntProgress(value=0, max=2), HTML(value='')))"
      ]
     },
     "metadata": {},
     "output_type": "display_data"
    },
    {
     "name": "stdout",
     "output_type": "stream",
     "text": [
      "\n"
     ]
    },
    {
     "name": "stderr",
     "output_type": "stream",
     "text": [
      "/home/nvs/anaconda3/envs/DeepLearning/lib/python3.7/site-packages/skimage/transform/_warps.py:110: UserWarning: Anti-aliasing will be enabled by default in skimage 0.15 to avoid aliasing artifacts when down-sampling images.\n",
      "  warn(\"Anti-aliasing will be enabled by default in skimage 0.15 to \"\n"
     ]
    }
   ],
   "source": [
    "im_width = 256; im_height = 256\n",
    "border = 5\n",
    "path_train = '/home/nvs/Documents/DB/FLIR/Calib/Sample/'\n",
    "X,Y = get_data(path_train)"
   ]
  },
  {
   "cell_type": "code",
   "execution_count": 188,
   "metadata": {},
   "outputs": [
    {
     "name": "stdout",
     "output_type": "stream",
     "text": [
      "__________________________________________________________________________________________________\n",
      "Layer (type)                    Output Shape         Param #     Connected to                     \n",
      "==================================================================================================\n",
      "input_24 (InputLayer)           (None, 256, 256, 1)  0                                            \n",
      "__________________________________________________________________________________________________\n",
      "model_16 (Model)                (None, 256, 256, 3)  54427267    input_24[0][0]                   \n",
      "__________________________________________________________________________________________________\n",
      "model_15 (Model)                (None, 16, 16, 1)    6966209     input_24[0][0]                   \n",
      "                                                                 model_16[1][0]                   \n",
      "==================================================================================================\n",
      "Total params: 61,393,476\n",
      "Trainable params: 54,417,411\n",
      "Non-trainable params: 6,976,065\n",
      "__________________________________________________________________________________________________\n"
     ]
    }
   ],
   "source": [
    "# define image shape\n",
    "t_image_shape = (256,256,1);c_image_shape = (256,256,3)\n",
    "# define the models\n",
    "d_model = define_discriminator(t_image_shape, c_image_shape)\n",
    "g_model = define_generator(t_image_shape)\n",
    "# define the composite model\n",
    "gan_model = define_gan(g_model, d_model, t_image_shape)\n",
    "# summarize the model\n",
    "gan_model.summary()\n",
    "# plot the model\n",
    "plot_model(gan_model, to_file='gan_model_plot.png', show_shapes=True, show_layer_names=True)"
   ]
  },
  {
   "cell_type": "code",
   "execution_count": null,
   "metadata": {},
   "outputs": [
    {
     "name": "stdout",
     "output_type": "stream",
     "text": [
      ">1, d1[0.531] d2[0.460] g[55.434]\n",
      ">2, d1[0.501] d2[0.346] g[52.221]\n",
      ">3, d1[0.115] d2[0.268] g[49.385]\n",
      ">4, d1[0.078] d2[0.261] g[46.923]\n",
      ">5, d1[0.104] d2[0.254] g[44.139]\n",
      ">6, d1[0.194] d2[0.303] g[41.340]\n",
      ">7, d1[0.174] d2[0.116] g[38.626]\n",
      ">8, d1[0.094] d2[0.079] g[36.005]\n",
      ">9, d1[0.039] d2[0.060] g[33.627]\n",
      ">10, d1[0.028] d2[0.044] g[31.343]\n",
      ">11, d1[0.024] d2[0.037] g[29.144]\n",
      ">12, d1[0.022] d2[0.032] g[27.017]\n",
      ">13, d1[0.020] d2[0.032] g[25.033]\n",
      ">14, d1[0.020] d2[0.030] g[23.161]\n",
      ">15, d1[0.019] d2[0.031] g[21.520]\n",
      ">16, d1[0.020] d2[0.023] g[20.123]\n",
      ">17, d1[0.019] d2[0.048] g[19.203]\n",
      ">18, d1[0.170] d2[0.477] g[17.554]\n",
      ">19, d1[0.114] d2[0.076] g[15.842]\n",
      ">20, d1[0.132] d2[0.064] g[14.477]\n",
      ">21, d1[0.275] d2[0.037] g[13.074]\n",
      ">22, d1[0.073] d2[0.099] g[12.511]\n",
      ">23, d1[0.026] d2[0.076] g[12.513]\n",
      ">24, d1[0.034] d2[0.067] g[11.410]\n",
      ">25, d1[0.019] d2[0.030] g[10.529]\n",
      ">26, d1[0.018] d2[0.886] g[11.206]\n",
      ">27, d1[2.215] d2[0.027] g[9.271]\n",
      ">28, d1[1.316] d2[0.166] g[7.190]\n",
      ">29, d1[0.714] d2[0.311] g[6.009]\n",
      ">30, d1[0.434] d2[0.400] g[5.520]\n",
      ">31, d1[0.398] d2[0.393] g[5.250]\n",
      ">32, d1[0.381] d2[0.392] g[5.153]\n",
      ">33, d1[0.396] d2[0.383] g[5.098]\n",
      ">34, d1[0.388] d2[0.376] g[5.609]\n",
      ">35, d1[0.387] d2[0.380] g[6.258]\n",
      ">36, d1[0.385] d2[0.381] g[4.633]\n",
      ">37, d1[0.384] d2[0.383] g[4.409]\n",
      ">38, d1[0.384] d2[0.382] g[4.423]\n",
      ">39, d1[0.385] d2[0.379] g[4.470]\n",
      ">40, d1[0.383] d2[0.380] g[4.929]\n",
      ">41, d1[0.384] d2[0.379] g[4.752]\n",
      ">42, d1[0.383] d2[0.374] g[4.591]\n",
      ">43, d1[0.379] d2[0.381] g[4.168]\n",
      ">44, d1[0.381] d2[0.381] g[4.036]\n",
      ">45, d1[0.380] d2[0.374] g[4.060]\n",
      ">46, d1[0.378] d2[0.384] g[4.166]\n",
      ">47, d1[0.382] d2[0.372] g[4.306]\n",
      ">48, d1[0.379] d2[0.377] g[4.490]\n",
      ">49, d1[0.379] d2[0.377] g[4.161]\n",
      ">50, d1[0.377] d2[0.372] g[4.089]\n",
      ">51, d1[0.376] d2[0.380] g[3.924]\n",
      ">52, d1[0.378] d2[0.374] g[3.829]\n",
      ">53, d1[0.376] d2[0.373] g[3.802]\n",
      ">54, d1[0.376] d2[0.380] g[3.958]\n",
      ">55, d1[0.378] d2[0.367] g[4.079]\n",
      ">56, d1[0.374] d2[0.373] g[4.059]\n",
      ">57, d1[0.373] d2[0.375] g[3.749]\n",
      ">58, d1[0.375] d2[0.373] g[3.723]\n",
      ">59, d1[0.374] d2[0.372] g[3.847]\n",
      ">60, d1[0.373] d2[0.372] g[3.928]\n",
      ">61, d1[0.372] d2[0.374] g[3.711]\n",
      ">62, d1[0.373] d2[0.373] g[3.655]\n",
      ">63, d1[0.374] d2[0.366] g[3.613]\n",
      ">64, d1[0.370] d2[0.374] g[3.613]\n",
      ">65, d1[0.373] d2[0.371] g[3.690]\n",
      ">66, d1[0.373] d2[0.369] g[3.895]\n",
      ">67, d1[0.372] d2[0.369] g[3.697]\n",
      ">68, d1[0.371] d2[0.369] g[3.579]\n"
     ]
    }
   ],
   "source": [
    "train(d_model, g_model, gan_model, X,Y)"
   ]
  },
  {
   "cell_type": "code",
   "execution_count": 185,
   "metadata": {},
   "outputs": [
    {
     "data": {
      "text/plain": [
       "(256, 256, 1)"
      ]
     },
     "execution_count": 185,
     "metadata": {},
     "output_type": "execute_result"
    }
   ],
   "source": [
    "#d_model.summary()\n",
    "X[1].shape"
   ]
  }
 ],
 "metadata": {
  "kernelspec": {
   "display_name": "Python 3",
   "language": "python",
   "name": "python3"
  },
  "language_info": {
   "codemirror_mode": {
    "name": "ipython",
    "version": 3
   },
   "file_extension": ".py",
   "mimetype": "text/x-python",
   "name": "python",
   "nbconvert_exporter": "python",
   "pygments_lexer": "ipython3",
   "version": "3.7.3"
  }
 },
 "nbformat": 4,
 "nbformat_minor": 2
}
